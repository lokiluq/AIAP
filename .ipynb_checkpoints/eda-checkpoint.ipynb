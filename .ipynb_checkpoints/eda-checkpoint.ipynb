{
 "cells": [
  {
   "cell_type": "markdown",
   "id": "c8dd0f5f",
   "metadata": {},
   "source": [
    "##  EDA for Predicting Activity in Elderly Living Spaces\n"
   ]
  },
  {
   "cell_type": "markdown",
   "id": "1696c994",
   "metadata": {},
   "source": [
    "\n",
    "\n",
    "###  Objective\n",
    "\n",
    "We aim to support ElderGuard Analytics in building a **non-invasive early warning system** for elderly individuals living independently. \n",
    "\n",
    "### Target Variable\n",
    "\n",
    "The key variable of interest (target variable) is **`Activity Level`**, which classifies a resident’s behavior as:\n",
    "\n",
    "- `low_activity`\n",
    "- `moderate_activity`\n",
    "- `high_activity`\n",
    "\n",
    "###  Purpose of this Exploratory Data Analysis (EDA)\n",
    "\n",
    "- Understand the structure and quality of the data\n",
    "- Detect missing values, inconsistencies, and outliers\n",
    "- Visualize relationships between features and the target variable\n",
    "- Identify strong predictors for use in modeling\n",
    "\n",
    "### Overview\n",
    "\n",
    " 1. Environment set-up\n",
    " 2. Data preview\n",
    " 3. Categorical data cleaning and encodding\n",
    " 4. Numerical data cleaning\n",
    " 5. Outlier detection and treatment\n",
    " 6. Uni-variate analysis\n",
    " 7. Bi-variate analysis\n",
    " 8. Correlation and insights\n",
    "\n",
    "\n",
    "\n",
    "\n",
    "---\n"
   ]
  },
  {
   "cell_type": "markdown",
   "id": "bd32e502",
   "metadata": {},
   "source": [
    "1a. Importing the necessary libraries for data exploration and visualization. This notebook environment is now set up and optimised for EDA."
   ]
  },
  {
   "cell_type": "code",
   "execution_count": null,
   "id": "02c8bc63",
   "metadata": {},
   "outputs": [
    {
     "ename": "",
     "evalue": "",
     "output_type": "error",
     "traceback": [
      "\u001b[1;31mRunning cells with 'Python 3.13.5' requires the ipykernel package.\n",
      "\u001b[1;31mRun the following command to install 'ipykernel' into the Python environment. \n",
      "\u001b[1;31mCommand: '/opt/homebrew/bin/python3 -m pip install ipykernel -U --user --force-reinstall'"
     ]
    }
   ],
   "source": [
    "import sqlite3\n",
    "import pandas as pd\n",
    "import numpy as np  \n",
    "import matplotlib.pyplot as plt\n",
    "import seaborn as sns\n",
    "import warnings\n",
    "warnings.filterwarnings('ignore')\n",
    "%matplotlib inline"
   ]
  },
  {
   "cell_type": "markdown",
   "id": "970dbd64",
   "metadata": {},
   "source": [
    "1b. Establishing a connection to the SQLite database and creating a cursor for executing SQL queries."
   ]
  },
  {
   "cell_type": "code",
   "execution_count": null,
   "id": "687cf91e",
   "metadata": {},
   "outputs": [
    {
     "ename": "",
     "evalue": "",
     "output_type": "error",
     "traceback": [
      "\u001b[1;31mRunning cells with 'Python 3.13.5' requires the ipykernel package.\n",
      "\u001b[1;31mRun the following command to install 'ipykernel' into the Python environment. \n",
      "\u001b[1;31mCommand: '/opt/homebrew/bin/python3 -m pip install ipykernel -U --user --force-reinstall'"
     ]
    }
   ],
   "source": [
    "conn = sqlite3.connect('data/gas_monitoring.db')\n",
    "cursor = conn.cursor()\n"
   ]
  },
  {
   "cell_type": "markdown",
   "id": "455b98d0",
   "metadata": {},
   "source": [
    "---"
   ]
  },
  {
   "cell_type": "markdown",
   "id": "cf1a1b3a",
   "metadata": {},
   "source": [
    "2a. We can now extract the dataset into a pandas DataFrame and preview the first 5 rows from the `gas_monitoring` table. This will help us ensure it has been loaded properly before diving deeper. We will also print out the number of columns and rows to get a gauge of the sample size."
   ]
  },
  {
   "cell_type": "code",
   "execution_count": null,
   "id": "8350f30c",
   "metadata": {},
   "outputs": [
    {
     "ename": "",
     "evalue": "",
     "output_type": "error",
     "traceback": [
      "\u001b[1;31mRunning cells with 'Python 3.13.5' requires the ipykernel package.\n",
      "\u001b[1;31mRun the following command to install 'ipykernel' into the Python environment. \n",
      "\u001b[1;31mCommand: '/opt/homebrew/bin/python3 -m pip install ipykernel -U --user --force-reinstall'"
     ]
    }
   ],
   "source": [
    "df = pd.read_sql_query(\"SELECT * FROM gas_monitoring\", conn)\n",
    "df.head(5)\n"
   ]
  },
  {
   "cell_type": "code",
   "execution_count": null,
   "id": "a0e605d3",
   "metadata": {},
   "outputs": [
    {
     "ename": "",
     "evalue": "",
     "output_type": "error",
     "traceback": [
      "\u001b[1;31mRunning cells with 'Python 3.13.5' requires the ipykernel package.\n",
      "\u001b[1;31mRun the following command to install 'ipykernel' into the Python environment. \n",
      "\u001b[1;31mCommand: '/opt/homebrew/bin/python3 -m pip install ipykernel -U --user --force-reinstall'"
     ]
    }
   ],
   "source": [
    "df.shape"
   ]
  },
  {
   "cell_type": "markdown",
   "id": "63b13edd",
   "metadata": {},
   "source": [
    "The table has 10 000 rows and 14 columns."
   ]
  },
  {
   "cell_type": "markdown",
   "id": "7814a71f",
   "metadata": {},
   "source": [
    "2b. Let's find out about the types of data we are dealing with, check for columns with missing values, as well as duplicated rows"
   ]
  },
  {
   "cell_type": "code",
   "execution_count": null,
   "id": "8a51ee97",
   "metadata": {},
   "outputs": [
    {
     "ename": "",
     "evalue": "",
     "output_type": "error",
     "traceback": [
      "\u001b[1;31mRunning cells with 'Python 3.13.5' requires the ipykernel package.\n",
      "\u001b[1;31mRun the following command to install 'ipykernel' into the Python environment. \n",
      "\u001b[1;31mCommand: '/opt/homebrew/bin/python3 -m pip install ipykernel -U --user --force-reinstall'"
     ]
    }
   ],
   "source": [
    "df.dtypes\n",
    "#check for data types\n"
   ]
  },
  {
   "cell_type": "markdown",
   "id": "faedd76f",
   "metadata": {},
   "source": [
    "We can see that 9 of the columns take in numerical data, while the remaining 5 (including our target variable) take in categorical data."
   ]
  },
  {
   "cell_type": "code",
   "execution_count": null,
   "id": "bb8f114f",
   "metadata": {},
   "outputs": [
    {
     "ename": "",
     "evalue": "",
     "output_type": "error",
     "traceback": [
      "\u001b[1;31mRunning cells with 'Python 3.13.5' requires the ipykernel package.\n",
      "\u001b[1;31mRun the following command to install 'ipykernel' into the Python environment. \n",
      "\u001b[1;31mCommand: '/opt/homebrew/bin/python3 -m pip install ipykernel -U --user --force-reinstall'"
     ]
    }
   ],
   "source": [
    "print(\"Total duplicate rows:\", df.duplicated().sum())\n",
    "#check number of duplicate rows\n"
   ]
  },
  {
   "cell_type": "code",
   "execution_count": null,
   "id": "eeb7430d",
   "metadata": {},
   "outputs": [
    {
     "ename": "",
     "evalue": "",
     "output_type": "error",
     "traceback": [
      "\u001b[1;31mRunning cells with 'Python 3.13.5' requires the ipykernel package.\n",
      "\u001b[1;31mRun the following command to install 'ipykernel' into the Python environment. \n",
      "\u001b[1;31mCommand: '/opt/homebrew/bin/python3 -m pip install ipykernel -U --user --force-reinstall'"
     ]
    }
   ],
   "source": [
    "dup = df[df.duplicated(keep=False)].sort_values(by=list(df.columns))\n",
    "dup.head(8)\n",
    "#preview and inspect the first 8 duplicates"
   ]
  },
  {
   "cell_type": "markdown",
   "id": "a75e6e91",
   "metadata": {},
   "source": [
    "We can see that these duplicates are indeed an exact copy of each other, sharing the same session ID. They add no new information, and can safely be dropped"
   ]
  },
  {
   "cell_type": "markdown",
   "id": "8038a374",
   "metadata": {},
   "source": [
    "### Removing duplicates"
   ]
  },
  {
   "cell_type": "code",
   "execution_count": null,
   "id": "7635cc6b",
   "metadata": {},
   "outputs": [
    {
     "ename": "",
     "evalue": "",
     "output_type": "error",
     "traceback": [
      "\u001b[1;31mRunning cells with 'Python 3.13.5' requires the ipykernel package.\n",
      "\u001b[1;31mRun the following command to install 'ipykernel' into the Python environment. \n",
      "\u001b[1;31mCommand: '/opt/homebrew/bin/python3 -m pip install ipykernel -U --user --force-reinstall'"
     ]
    }
   ],
   "source": [
    "df.drop_duplicates(inplace=True)\n",
    "#remove the 201 rows from the dataset\n"
   ]
  },
  {
   "cell_type": "code",
   "execution_count": null,
   "id": "2ab87e8b",
   "metadata": {},
   "outputs": [
    {
     "ename": "",
     "evalue": "",
     "output_type": "error",
     "traceback": [
      "\u001b[1;31mRunning cells with 'Python 3.13.5' requires the ipykernel package.\n",
      "\u001b[1;31mRun the following command to install 'ipykernel' into the Python environment. \n",
      "\u001b[1;31mCommand: '/opt/homebrew/bin/python3 -m pip install ipykernel -U --user --force-reinstall'"
     ]
    }
   ],
   "source": [
    "print(\"Total duplicate rows:\", df.duplicated().sum())"
   ]
  },
  {
   "cell_type": "markdown",
   "id": "7ebf5abc",
   "metadata": {},
   "source": [
    "201 exact duplicate rows were found and removed from the dataset (~2% of total rows).\n",
    "They were removed to prevent redundancy and overrepresentation during analysis and model training."
   ]
  },
  {
   "cell_type": "code",
   "execution_count": null,
   "id": "e6d6aae7",
   "metadata": {},
   "outputs": [
    {
     "ename": "",
     "evalue": "",
     "output_type": "error",
     "traceback": [
      "\u001b[1;31mRunning cells with 'Python 3.13.5' requires the ipykernel package.\n",
      "\u001b[1;31mRun the following command to install 'ipykernel' into the Python environment. \n",
      "\u001b[1;31mCommand: '/opt/homebrew/bin/python3 -m pip install ipykernel -U --user --force-reinstall'"
     ]
    }
   ],
   "source": [
    "missing_summary = df.isnull().sum()[df.isnull().sum() > 0].to_frame(name='Missing inputs')\n",
    "missing_summary['%'] = ((missing_summary['Missing inputs'] / len(df)) * 100).round(1)\n",
    "missing_summary.sort_values(by='%', ascending=False, inplace=True)\n",
    "print(missing_summary)\n",
    "#check for missing values\n",
    "\n"
   ]
  },
  {
   "cell_type": "markdown",
   "id": "e44853a9",
   "metadata": {},
   "source": [
    "The 4 columns above have missing inputs. We will need to handle these missingness in part 3."
   ]
  },
  {
   "cell_type": "markdown",
   "id": "1988e937",
   "metadata": {},
   "source": [
    "2c. For the columns taking in numerical data, we can have a statistical summary of their values."
   ]
  },
  {
   "cell_type": "code",
   "execution_count": null,
   "id": "9cd0f739",
   "metadata": {},
   "outputs": [
    {
     "ename": "",
     "evalue": "",
     "output_type": "error",
     "traceback": [
      "\u001b[1;31mRunning cells with 'Python 3.13.5' requires the ipykernel package.\n",
      "\u001b[1;31mRun the following command to install 'ipykernel' into the Python environment. \n",
      "\u001b[1;31mCommand: '/opt/homebrew/bin/python3 -m pip install ipykernel -U --user --force-reinstall'"
     ]
    }
   ],
   "source": [
    "df.describe()"
   ]
  },
  {
   "cell_type": "markdown",
   "id": "c3949ed8",
   "metadata": {},
   "source": [
    "We observe a few problems with the values here:\n",
    "\n",
    "- The minimum value for temperature is recorded as 298.93°C, which is highly unlikely.\n",
    "- The minimum humidity and C02 infra-red sensor readings are negative values, which is not possible. \n",
    "\n",
    "This indicates the need for outlier filtering or value clipping (which we will perform later) before modeling."
   ]
  },
  {
   "cell_type": "markdown",
   "id": "24877875",
   "metadata": {},
   "source": [
    "2d. For the columns taking in categorical data, we can print out the unique inputs of each columns respectively. This will allow us to standardise inconsistent data, convert ordinal categories to numerical values if meaningful, and prepare the values for modeling."
   ]
  },
  {
   "cell_type": "code",
   "execution_count": null,
   "id": "7ed276bf",
   "metadata": {},
   "outputs": [
    {
     "ename": "",
     "evalue": "",
     "output_type": "error",
     "traceback": [
      "\u001b[1;31mRunning cells with 'Python 3.13.5' requires the ipykernel package.\n",
      "\u001b[1;31mRun the following command to install 'ipykernel' into the Python environment. \n",
      "\u001b[1;31mCommand: '/opt/homebrew/bin/python3 -m pip install ipykernel -U --user --force-reinstall'"
     ]
    }
   ],
   "source": [
    "print(\"Time of day:\",df['Time of Day'].unique(), \"\\n\")\n",
    "print(\"CO_GasSensor:\", df['CO_GasSensor'].unique(), \"\\n\")\n",
    "print(\"Ambient Light Level:\",df['Ambient Light Level'].unique(), \"\\n\")\n",
    "print(\"HVAC Operation Mode:\",df['HVAC Operation Mode'].unique(), \"\\n\")\n",
    "print(\"Activity Level:\",df['Activity Level'].unique())"
   ]
  },
  {
   "cell_type": "markdown",
   "id": "af4e8591",
   "metadata": {},
   "source": [
    "\n",
    "\n",
    " --- "
   ]
  },
  {
   "cell_type": "markdown",
   "id": "8dbf692e",
   "metadata": {},
   "source": [
    "#### 3. Categorical features data cleaning"
   ]
  },
  {
   "cell_type": "markdown",
   "id": "86945eb9",
   "metadata": {},
   "source": [
    "3a. 'Activity Level' column"
   ]
  },
  {
   "cell_type": "markdown",
   "id": "acee630b",
   "metadata": {},
   "source": [
    "We standardise all the unique inputs in this column after setting everything to lowercase"
   ]
  },
  {
   "cell_type": "code",
   "execution_count": null,
   "id": "dc147533",
   "metadata": {},
   "outputs": [
    {
     "ename": "",
     "evalue": "",
     "output_type": "error",
     "traceback": [
      "\u001b[1;31mRunning cells with 'Python 3.13.5' requires the ipykernel package.\n",
      "\u001b[1;31mRun the following command to install 'ipykernel' into the Python environment. \n",
      "\u001b[1;31mCommand: '/opt/homebrew/bin/python3 -m pip install ipykernel -U --user --force-reinstall'"
     ]
    }
   ],
   "source": [
    "df['Activity Level'] = df['Activity Level'].str.lower().str.strip()\n",
    "\n",
    "act_map ={\n",
    "    \n",
    "    'low activity': 'low_activity',\n",
    "    'low_activity': 'low_activity',\n",
    "    'lowactivity' : 'low_activity',\n",
    "    'high activity' : 'high_activity',\n",
    "    'moderate activity' : 'moderate_activity',\n",
    "    'moderateactivity' : 'moderate_activity'\n",
    "}\n",
    "\n",
    "df['Activity Level'] = df['Activity Level'].replace(act_map)"
   ]
  },
  {
   "cell_type": "markdown",
   "id": "039b827e",
   "metadata": {},
   "source": [
    "The labels 'low_activity', 'moderate_activity' and 'high_activity' are ordinal in nature, and spaced regularly. We can therefore convert these labels into numeric values to prepare for modelling"
   ]
  },
  {
   "cell_type": "code",
   "execution_count": null,
   "id": "9a5db4dd",
   "metadata": {},
   "outputs": [
    {
     "ename": "",
     "evalue": "",
     "output_type": "error",
     "traceback": [
      "\u001b[1;31mRunning cells with 'Python 3.13.5' requires the ipykernel package.\n",
      "\u001b[1;31mRun the following command to install 'ipykernel' into the Python environment. \n",
      "\u001b[1;31mCommand: '/opt/homebrew/bin/python3 -m pip install ipykernel -U --user --force-reinstall'"
     ]
    }
   ],
   "source": [
    "act_levels = {\n",
    "    \n",
    "    'low_activity': 0,\n",
    "    'moderate_activity': 1,\n",
    "    'high_activity': 2,\n",
    "}\n",
    "\n",
    "df['Activity Level'] = df['Activity Level'].map(act_levels)"
   ]
  },
  {
   "cell_type": "code",
   "execution_count": null,
   "id": "2762fb54",
   "metadata": {},
   "outputs": [
    {
     "ename": "",
     "evalue": "",
     "output_type": "error",
     "traceback": [
      "\u001b[1;31mRunning cells with 'Python 3.13.5' requires the ipykernel package.\n",
      "\u001b[1;31mRun the following command to install 'ipykernel' into the Python environment. \n",
      "\u001b[1;31mCommand: '/opt/homebrew/bin/python3 -m pip install ipykernel -U --user --force-reinstall'"
     ]
    }
   ],
   "source": [
    "print(\"Activity Level:\",df['Activity Level'].unique())"
   ]
  },
  {
   "cell_type": "markdown",
   "id": "5f90a1db",
   "metadata": {},
   "source": [
    "3b. 'Ambient Light Level' Column\n",
    "\n",
    "- We know that there are 2532 missing cells in this column (25.5% of the dataset)"
   ]
  },
  {
   "cell_type": "code",
   "execution_count": null,
   "id": "581b7932",
   "metadata": {},
   "outputs": [
    {
     "ename": "",
     "evalue": "",
     "output_type": "error",
     "traceback": [
      "\u001b[1;31mRunning cells with 'Python 3.13.5' requires the ipykernel package.\n",
      "\u001b[1;31mRun the following command to install 'ipykernel' into the Python environment. \n",
      "\u001b[1;31mCommand: '/opt/homebrew/bin/python3 -m pip install ipykernel -U --user --force-reinstall'"
     ]
    }
   ],
   "source": [
    "full_data = df['Activity Level'].value_counts(normalize=True).rename('Full Data %')\n",
    "\n",
    "missing_a = df[df['Ambient Light Level'].isna()]\n",
    "missing_proportions = missing_a['Activity Level'].value_counts(normalize=True).rename('Missing Ambient Light Level %')\n",
    "\n",
    "table = pd.concat([missing_proportions, full_data], axis=1)\n",
    "table = table * 100  \n",
    "table = table.round(2) \n",
    "\n",
    "print(table)\n"
   ]
  },
  {
   "cell_type": "markdown",
   "id": "c045e484",
   "metadata": {},
   "source": [
    "The distribution of activity levels in the full dataset and among rows with missing 'Ambient Light Level' values shows less than a 0.5 percentage point difference across all classes. This suggests that the missingness in this column is not correlated with the target (Activity Level), and therefore likely not a predictive signal. This means that we can safely impute these missing cells."
   ]
  },
  {
   "cell_type": "code",
   "execution_count": null,
   "id": "3f73c2c3",
   "metadata": {},
   "outputs": [
    {
     "ename": "",
     "evalue": "",
     "output_type": "error",
     "traceback": [
      "\u001b[1;31mRunning cells with 'Python 3.13.5' requires the ipykernel package.\n",
      "\u001b[1;31mRun the following command to install 'ipykernel' into the Python environment. \n",
      "\u001b[1;31mCommand: '/opt/homebrew/bin/python3 -m pip install ipykernel -U --user --force-reinstall'"
     ]
    }
   ],
   "source": [
    "#Plotting Ambient Light Levels in different time of day\n",
    "\n",
    "co_plot_df = df.dropna(subset=['Ambient Light Level', 'Time of Day'])\n",
    "g = sns.FacetGrid(co_plot_df, col='Time of Day', col_wrap=2, height=4, sharey=False)\n",
    "g.map(sns.countplot, 'Ambient Light Level', order=sorted(co_plot_df['Ambient Light Level'].unique()), palette='dark')\n",
    "g.set_axis_labels(\"Ambient Light Level\", \"Count\")\n",
    "g.set_titles(col_template=\"{col_name}\")\n",
    "g.fig.subplots_adjust(top=0.85)\n",
    "g.fig.suptitle(\"Ambient Light Levels by Time of Day\", fontsize=16)\n",
    "\n",
    "for ax in g.axes.flat:\n",
    "    for label in ax.get_xticklabels():\n",
    "        label.set_rotation(25)\n",
    "\n",
    "plt.tight_layout()\n",
    "plt.show()"
   ]
  },
  {
   "cell_type": "markdown",
   "id": "e758dc4a",
   "metadata": {},
   "source": [
    "We can see that the distribution of 'Ambient Light Levels' is relatively unchanged throughout the day, meaning these levels are not affected by the natural lighting outside. 'very_bright' is the clear and dominant mode across all time slices (as the chart suggests). We cannot just impute the modal level to the missing cells as this will bias the model towards 'very bright'. As such, we wil try to predict the missing values from the known values using a K Nearest Neighbors."
   ]
  },
  {
   "cell_type": "markdown",
   "id": "772d28cd",
   "metadata": {},
   "source": [
    "We standardise all the unique inputs in this column after setting everything to lowercase"
   ]
  },
  {
   "cell_type": "code",
   "execution_count": null,
   "id": "d3cca4d4",
   "metadata": {},
   "outputs": [
    {
     "ename": "",
     "evalue": "",
     "output_type": "error",
     "traceback": [
      "\u001b[1;31mRunning cells with 'Python 3.13.5' requires the ipykernel package.\n",
      "\u001b[1;31mRun the following command to install 'ipykernel' into the Python environment. \n",
      "\u001b[1;31mCommand: '/opt/homebrew/bin/python3 -m pip install ipykernel -U --user --force-reinstall'"
     ]
    }
   ],
   "source": [
    "df['HVAC Operation Mode'] = df['HVAC Operation Mode'].str.lower().str.strip()\n",
    "\n",
    "hvac_map ={\n",
    "    \n",
    "    'eco_mode': 'eco_mode',\n",
    "    'eco mode': 'eco_mode',\n",
    "    'eco': 'eco_mode',\n",
    "    'heating_active': 'heating',\n",
    "    'heating': 'heating',\n",
    "    'cooling_active': 'cooling',\n",
    "    'cooling': 'cooling',\n",
    "    'ventilation_only': 'ventilation',\n",
    "    'ventilation': 'ventilation',\n",
    "    'off': 'off',\n",
    "    'maintenance_mode': 'maintenance',\n",
    "    'maintenance': 'maintenance'\n",
    "}\n",
    "\n",
    "df['HVAC Operation Mode'] = df['HVAC Operation Mode'].replace(hvac_map)\n"
   ]
  },
  {
   "cell_type": "code",
   "execution_count": null,
   "id": "6496d3e3",
   "metadata": {},
   "outputs": [
    {
     "ename": "",
     "evalue": "",
     "output_type": "error",
     "traceback": [
      "\u001b[1;31mRunning cells with 'Python 3.13.5' requires the ipykernel package.\n",
      "\u001b[1;31mRun the following command to install 'ipykernel' into the Python environment. \n",
      "\u001b[1;31mCommand: '/opt/homebrew/bin/python3 -m pip install ipykernel -U --user --force-reinstall'"
     ]
    }
   ],
   "source": [
    "print(\"HVAC Operation Mode:\",df['HVAC Operation Mode'].unique())"
   ]
  },
  {
   "cell_type": "markdown",
   "id": "5d21bf96",
   "metadata": {},
   "source": [
    "3d. 'CO_GasSensor' column"
   ]
  },
  {
   "cell_type": "markdown",
   "id": "c46b9045",
   "metadata": {},
   "source": [
    "We know from earlier that there are 1365 missing entries in this column (13.8% of dataset)"
   ]
  },
  {
   "cell_type": "code",
   "execution_count": null,
   "id": "39446774",
   "metadata": {},
   "outputs": [
    {
     "ename": "",
     "evalue": "",
     "output_type": "error",
     "traceback": [
      "\u001b[1;31mRunning cells with 'Python 3.13.5' requires the ipykernel package.\n",
      "\u001b[1;31mRun the following command to install 'ipykernel' into the Python environment. \n",
      "\u001b[1;31mCommand: '/opt/homebrew/bin/python3 -m pip install ipykernel -U --user --force-reinstall'"
     ]
    }
   ],
   "source": [
    "full_data = df['Activity Level'].value_counts(normalize=True).rename('Full Data %')\n",
    "\n",
    "missing_co = df[df['CO_GasSensor'].isna()]\n",
    "missing_proportions = missing_co['Activity Level'].value_counts(normalize=True).rename('Missing CO_GasSensor %')\n",
    "\n",
    "table = pd.concat([missing_proportions, full_data], axis=1)\n",
    "table = table * 100  \n",
    "table = table.round(2) \n",
    "\n",
    "print(table)\n"
   ]
  },
  {
   "cell_type": "markdown",
   "id": "35af27cc",
   "metadata": {},
   "source": [
    "The distribution of activity levels in the full dataset and among rows with missing CO_GasSensor values shows less than a 2 percentage point difference across all classes. This suggests that the missingness in this column is not correlated with the target (Activity Level), and therefore likely not a predictive signal. This means that we can safely impute these missing cells"
   ]
  },
  {
   "cell_type": "code",
   "execution_count": null,
   "id": "20291b89",
   "metadata": {},
   "outputs": [
    {
     "ename": "",
     "evalue": "",
     "output_type": "error",
     "traceback": [
      "\u001b[1;31mRunning cells with 'Python 3.13.5' requires the ipykernel package.\n",
      "\u001b[1;31mRun the following command to install 'ipykernel' into the Python environment. \n",
      "\u001b[1;31mCommand: '/opt/homebrew/bin/python3 -m pip install ipykernel -U --user --force-reinstall'"
     ]
    }
   ],
   "source": [
    "#Plotting CO_Levels (excluding missing cells) in different time of day \n",
    "\n",
    "co_plot_df = df.dropna(subset=['CO_GasSensor', 'Time of Day'])\n",
    "g = sns.FacetGrid(co_plot_df, col='Time of Day', col_wrap=2, height=4, sharey=True)\n",
    "g.map(sns.countplot, 'CO_GasSensor', order=sorted(co_plot_df['CO_GasSensor'].unique()), palette='dark')\n",
    "g.set_axis_labels(\"CO Level\", \"Count\")\n",
    "g.set_titles(col_template=\"{col_name}\")\n",
    "g.fig.subplots_adjust(top=0.85)\n",
    "g.fig.suptitle(\"CO GasSensor Levels by Time of Day\", fontsize=16)\n",
    "\n",
    "for ax in g.axes.flat:\n",
    "    for label in ax.get_xticklabels():\n",
    "        label.set_rotation(25)\n",
    "\n",
    "plt.tight_layout()\n",
    "plt.show()"
   ]
  },
  {
   "cell_type": "markdown",
   "id": "c26680e5",
   "metadata": {},
   "source": [
    "We can see that for morning, afternoon and night,'low' is the modal CO level. In the evening, 'medium' is the modal CO level. Because CO levels vary by time of day and the missingness isn’t correlated with the target, we impute missing values using the most frequent CO level per time segment as opposed to using a single global mode"
   ]
  },
  {
   "cell_type": "code",
   "execution_count": null,
   "id": "f0b6c89d",
   "metadata": {},
   "outputs": [
    {
     "ename": "",
     "evalue": "",
     "output_type": "error",
     "traceback": [
      "\u001b[1;31mRunning cells with 'Python 3.13.5' requires the ipykernel package.\n",
      "\u001b[1;31mRun the following command to install 'ipykernel' into the Python environment. \n",
      "\u001b[1;31mCommand: '/opt/homebrew/bin/python3 -m pip install ipykernel -U --user --force-reinstall'"
     ]
    }
   ],
   "source": [
    "#Imputation based on time of day\n",
    "time_mode_map = df.groupby('Time of Day')['CO_GasSensor'].agg(lambda x: x.mode().iloc[0])\n",
    "\n",
    "def impute_co(row):\n",
    "    if pd.isna(row['CO_GasSensor']):\n",
    "        return time_mode_map[row['Time of Day']]\n",
    "    return row['CO_GasSensor']\n",
    "\n",
    "df['CO_GasSensor'] = df.apply(impute_co, axis=1)\n"
   ]
  },
  {
   "cell_type": "markdown",
   "id": "ca91bd30",
   "metadata": {},
   "source": [
    "All the missing cells in the 'CO_GasSensor' column are now filled with the modal CO level corresponding to their time of day."
   ]
  },
  {
   "cell_type": "code",
   "execution_count": null,
   "id": "507232de",
   "metadata": {},
   "outputs": [
    {
     "ename": "",
     "evalue": "",
     "output_type": "error",
     "traceback": [
      "\u001b[1;31mRunning cells with 'Python 3.13.5' requires the ipykernel package.\n",
      "\u001b[1;31mRun the following command to install 'ipykernel' into the Python environment. \n",
      "\u001b[1;31mCommand: '/opt/homebrew/bin/python3 -m pip install ipykernel -U --user --force-reinstall'"
     ]
    }
   ],
   "source": [
    "print(\"CO_GasSensor:\",df['CO_GasSensor'].unique())"
   ]
  },
  {
   "cell_type": "markdown",
   "id": "570f9784",
   "metadata": {},
   "source": [
    "The labels 'extremely low', 'low', 'medium', 'high' and 'extremely high' are ordinal in nature, and spaced regularly. We can therefore convert these labels into numeric values (encodding). This transformation preserves the order and and makes the data suitable for machine learning models, which requires numeric inputs."
   ]
  },
  {
   "cell_type": "code",
   "execution_count": null,
   "id": "85683b60",
   "metadata": {},
   "outputs": [
    {
     "ename": "",
     "evalue": "",
     "output_type": "error",
     "traceback": [
      "\u001b[1;31mRunning cells with 'Python 3.13.5' requires the ipykernel package.\n",
      "\u001b[1;31mRun the following command to install 'ipykernel' into the Python environment. \n",
      "\u001b[1;31mCommand: '/opt/homebrew/bin/python3 -m pip install ipykernel -U --user --force-reinstall'"
     ]
    }
   ],
   "source": [
    "'''co_levels = {\n",
    "    \n",
    "    'extremely low': 0,\n",
    "    'low': 1,\n",
    "    'medium': 2,\n",
    "    'high': 3,\n",
    "    'extremely high': 4\n",
    "}\n",
    "\n",
    "df['CO_GasSensor'] = df['CO_GasSensor'].map(co_levels)'''\n"
   ]
  },
  {
   "cell_type": "code",
   "execution_count": null,
   "id": "13b79f5c",
   "metadata": {},
   "outputs": [
    {
     "ename": "",
     "evalue": "",
     "output_type": "error",
     "traceback": [
      "\u001b[1;31mRunning cells with 'Python 3.13.5' requires the ipykernel package.\n",
      "\u001b[1;31mRun the following command to install 'ipykernel' into the Python environment. \n",
      "\u001b[1;31mCommand: '/opt/homebrew/bin/python3 -m pip install ipykernel -U --user --force-reinstall'"
     ]
    }
   ],
   "source": [
    "print(\"CO_GasSensor: \", df['CO_GasSensor'].unique())\n"
   ]
  },
  {
   "cell_type": "markdown",
   "id": "64143d1b",
   "metadata": {},
   "source": [
    "---"
   ]
  },
  {
   "cell_type": "markdown",
   "id": "218e5bce",
   "metadata": {},
   "source": [
    "#### 4. Numerical features data cleaning"
   ]
  }
 ],
 "metadata": {
  "kernelspec": {
   "display_name": "Python 3",
   "language": "python",
   "name": "python3"
  },
  "language_info": {
   "codemirror_mode": {
    "name": "ipython",
    "version": 3
   },
   "file_extension": ".py",
   "mimetype": "text/x-python",
   "name": "python",
   "nbconvert_exporter": "python",
   "pygments_lexer": "ipython3",
   "version": "3.13.5"
  }
 },
 "nbformat": 4,
 "nbformat_minor": 5
}
